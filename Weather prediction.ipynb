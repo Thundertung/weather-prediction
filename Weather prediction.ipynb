{
 "cells": [
  {
   "cell_type": "markdown",
   "id": "9297279f",
   "metadata": {},
   "source": [
    "# Import libary"
   ]
  },
  {
   "cell_type": "code",
   "execution_count": 1,
   "id": "6ed6b26c",
   "metadata": {},
   "outputs": [],
   "source": [
    "import pandas as pd\n",
    "import pickle\n",
    "\n",
    "from sklearn.preprocessing import LabelEncoder\n",
    "from sklearn.preprocessing import StandardScaler\n",
    "\n",
    "from sklearn.linear_model import LogisticRegression\n",
    "from sklearn.model_selection import GridSearchCV\n",
    "from sklearn.model_selection import train_test_split\n",
    "from sklearn import metrics\n",
    "import matplotlib.pyplot as plt\n",
    "import seaborn as sns\n",
    "from sklearn.metrics import confusion_matrix"
   ]
  },
  {
   "cell_type": "code",
   "execution_count": 2,
   "id": "906228f5",
   "metadata": {},
   "outputs": [],
   "source": [
    "def get_feature(data):\n",
    "    '''function to get all features and collect and categorical and numeric in dataframe\n",
    "    pararmeter : data : dataframe'''\n",
    "    categorical_features = [] #categorical feature list \n",
    "    numeric_features = [] # nubmerical feature list \n",
    "    features = data.columns.values.tolist() # collect all columns \n",
    "    for col in features: # foor loop features \n",
    "        if data[col].dtype != 'object':  # if type not equal to object\n",
    "            numeric_features.append(col) # add to numberic \n",
    "        else: # if not \n",
    "            categorical_features.append(col)  # add to categorical\n",
    "    return categorical_features,numeric_features # return the collected features\n",
    "\n",
    "\n",
    "def fillna_data(data,numeric_features,categorical_features): \n",
    "    '''function fill missing value with mean and mode\n",
    "    parameter data: dataframe\n",
    "              numeric_features : number features\n",
    "              categorical_features : group features'''\n",
    "    for col in numeric_features: # for loop number features\n",
    "        mean = data[col].mean() # find mean of number features\n",
    "        data[col] = data[col].fillna(mean) # fill missing value with mean\n",
    "    \n",
    "    for col in categorical_features: # for loop group features\n",
    "        mode = data[col].mode()[0] # find mode of group features \n",
    "        data[col] = data[col].fillna(mode) # fill missing values with mean \n",
    "        \n",
    "        \n",
    "def encode_categorical(data,categorical_features):\n",
    "    '''function to change the categorical features to number\n",
    "        parameter data : the dataframe\n",
    "                  categorical_features : features that indicate groups'''\n",
    "    for col in categorical_features: # for loop in the categorical features \n",
    "        le = LabelEncoder() # call label encoder \n",
    "        le.fit(list(data[col].astype(str).values)) # fit the lable encoder to dataframe \n",
    "        data[col] = le.transform(list(data[col].astype(str).values)) # transform dataframe with label encoder \n",
    "        \n",
    "def performance_report(data_test,test_set,model):\n",
    "    '''function to create the performance report\n",
    "    parameter data_test: the test data X\n",
    "              test_set : the test target \n",
    "              model    : the model that wanted to test'''\n",
    "    \n",
    "    prediction= model.predict(data_test) # create prediction\n",
    "    cm=confusion_matrix(test_set,prediction) # create the confusion matrix\n",
    "    \n",
    "    # plot the confusion matrix\n",
    "    conf_matrix=pd.DataFrame(data=cm,\n",
    "                             columns=['Predicted:0','Predicted:1'],\n",
    "                             index=['Actual:0','Actual:1'])\n",
    "    plt.figure(figsize = (8,5))\n",
    "    sns.heatmap(conf_matrix, annot=True,fmt='d',cmap=\"YlGnBu\") # plot the heatmap\n",
    "\n",
    "    print(metrics.accuracy_score(test_set, prediction)) # print accuracy\n",
    "    print(metrics.classification_report(test_set, prediction)) # print classification report\n",
    "    \n",
    "    \n",
    "def train_model(train_data,target,name):\n",
    "    '''fucntion to train model with logistic regression by\n",
    "    using the grid search for best parameter and return the best model\n",
    "    and also save the model\n",
    "    parameter  train_data : data for training \n",
    "               target     : target\n",
    "               name : name of the model to be saved'''\n",
    "    \n",
    "    # logistic regression parameter\n",
    "    param = { 'C': [0.001, 0.01, 0.1, 1, 10],\n",
    "              'penalty': ['l2'],\n",
    "              'tol' : [0.1,0.01,0.001]}\n",
    "    \n",
    "    # find best parameter by creating grid search\n",
    "    logis_gridcv = GridSearchCV(estimator=LogisticRegression(), \n",
    "                                param_grid=param,   \n",
    "                                scoring='neg_log_loss',\n",
    "                                cv=5)\n",
    "    \n",
    "    #start training and save the best parameter\n",
    "    logis_gridcv.fit(train_data, target)\n",
    "    \n",
    "    # use best parameter as the setup\n",
    "    logis = LogisticRegression(C = logis_gridcv.best_params_['C'],\n",
    "                               penalty = logis_gridcv.best_params_['penalty'],\n",
    "                               tol = logis_gridcv.best_params_['tol'])\n",
    "    \n",
    "    model = logis.fit(train_data,target) # return the trained model with best parameter\n",
    "    \n",
    "    # save the model to disk\n",
    "    pickle.dump(model, open(name, 'wb'))\n",
    "    return model"
   ]
  },
  {
   "cell_type": "code",
   "execution_count": 3,
   "id": "9c149d92",
   "metadata": {},
   "outputs": [
    {
     "name": "stdout",
     "output_type": "stream",
     "text": [
      "0.8410903341124708\n",
      "              precision    recall  f1-score   support\n",
      "\n",
      "           0       0.86      0.95      0.90     22726\n",
      "           1       0.72      0.45      0.55      6366\n",
      "\n",
      "    accuracy                           0.84     29092\n",
      "   macro avg       0.79      0.70      0.73     29092\n",
      "weighted avg       0.83      0.84      0.83     29092\n",
      "\n"
     ]
    },
    {
     "data": {
      "image/png": "[encoded data removed]",
      "text/plain": [
       "<Figure size 576x360 with 2 Axes>"
      ]
     },
     "metadata": {
      "needs_background": "light"
     },
     "output_type": "display_data"
    }
   ],
   "source": [
    "#### PREPARE DATA ####\n",
    "def prepare(dataframe_location):\n",
    "    \n",
    "    df = pd.read_csv(dataframe_location) # import dataset\n",
    "    df = df.drop(['Evaporation', 'Sunshine', 'Cloud9am', 'Cloud3pm','Date'], axis=1) # drop columns \n",
    "    categorical_features,numeric_features  = get_feature(df) # get group and number feature\n",
    "    fillna_data(df,numeric_features,categorical_features) # fill missing value\n",
    "    encode_categorical(df,categorical_features) # encode group features\n",
    "    y = df['RainTomorrow'] # setup target \n",
    "    X = df.drop('RainTomorrow', axis=1) # setup X\n",
    "    X_scaled = StandardScaler().fit_transform(X) # normalize X\n",
    "    X_train, X_test, y_train, y_test = train_test_split(X_scaled, y, test_size=0.2, random_state=0) # train test split\n",
    "    return X_train, X_test, y_train, y_test \n",
    "\n",
    "#### MODEL BUILDING ####\n",
    "X_train, X_test, y_train, y_test = prepare('weatherAUS/weatherAUS.csv')\n",
    "model = train_model(X_train,y_train,'weather_model.sav')\n",
    "performance_report(X_test,y_test,model)\n"
   ]
  },
  {
   "cell_type": "code",
   "execution_count": 5,
   "id": "7174f34f",
   "metadata": {},
   "outputs": [],
   "source": [
    "# load save model \n",
    "loaded_model = pickle.load(open('weather_model.sav', 'rb'))\n",
    "result = loaded_model.score(X_test, y_test)"
   ]
  }
 ],
 "metadata": {
  "kernelspec": {
   "display_name": "Python 3 (ipykernel)",
   "language": "python",
   "name": "python3"
  },
  "language_info": {
   "codemirror_mode": {
    "name": "ipython",
    "version": 3
   },
   "file_extension": ".py",
   "mimetype": "text/x-python",
   "name": "python",
   "nbconvert_exporter": "python",
   "pygments_lexer": "ipython3",
   "version": "3.7.7"
  }
 },
 "nbformat": 4,
 "nbformat_minor": 5
}
